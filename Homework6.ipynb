{
 "cells": [
  {
   "cell_type": "markdown",
   "id": "d6a7f294",
   "metadata": {},
   "source": [
    "Задача 1. Известно, что генеральная совокупность распределена нормально\n",
    "со средним квадратическим отклонением, равным 16.\n",
    "Найти доверительный интервал для оценки математического ожидания с надежностью\n",
    "0.95,\n",
    "если выборочная средняя M = 80, а объем выборки n = 256."
   ]
  },
  {
   "cell_type": "markdown",
   "id": "a1fa2aac",
   "metadata": {},
   "source": [
    "Решение"
   ]
  },
  {
   "cell_type": "code",
   "execution_count": 19,
   "id": "12fd47de",
   "metadata": {},
   "outputs": [
    {
     "name": "stdout",
     "output_type": "stream",
     "text": [
      "доверительный интервал - (78.04;81.96)\n"
     ]
    }
   ],
   "source": [
    "α = 0.05 \n",
    "M = 80 \n",
    "n = 256 \n",
    "z = 1.96 \n",
    "σ = 16\n",
    "\n",
    "res_1 = M + z * (σ / n**0.5)\n",
    "res_2 = M - z * (σ / n**0.5)\n",
    "print(f'доверительный интервал - ({res_2};{res_1})')"
   ]
  },
  {
   "cell_type": "markdown",
   "id": "3febf199",
   "metadata": {},
   "source": [
    "Задача 2. В результате 10 независимых измерений некоторой величины X, выполненных с\n",
    "одинаковой точностью,\n",
    "получены опытные данные:\n",
    "6.9, 6.1, 6.2, 6.8, 7.5, 6.3, 6.4, 6.9, 6.7, 6.1\n",
    "Предполагая, что результаты измерений подчинены нормальному закону распределения\n",
    "вероятностей,\n",
    "оценить истинное значение величины X при помощи доверительного интервала,\n",
    "покрывающего это\n",
    "значение с доверительной вероятностью 0,95."
   ]
  },
  {
   "cell_type": "markdown",
   "id": "6382cc3c",
   "metadata": {},
   "source": [
    "Решение"
   ]
  },
  {
   "cell_type": "code",
   "execution_count": 9,
   "id": "e90b4c9a",
   "metadata": {},
   "outputs": [],
   "source": [
    "import numpy as np\n",
    "from scipy import stats"
   ]
  },
  {
   "cell_type": "code",
   "execution_count": 12,
   "id": "cc346ebc",
   "metadata": {},
   "outputs": [
    {
     "name": "stdout",
     "output_type": "stream",
     "text": [
      "Величина Х лежит в интервале:(6.250071860391163 : 6.929928139608839)\n",
      "2.2621571627409915\n",
      "6.590000000000001\n"
     ]
    }
   ],
   "source": [
    "a = np.array([6.9, 6.1, 6.2, 6.8, 7.5, 6.3, 6.4, 6.9, 6.7, 6.1])\n",
    "n = 10\n",
    "x_mean1 = np.mean(a)\n",
    "D = np.var(a, ddof=1)\n",
    "t = stats.t.ppf(0.975, df = n - 1)\n",
    "y1 = x_mean1 - t * np.sqrt(D/n)\n",
    "y2 = x_mean1 + t * np.sqrt(D/n)\n",
    "print(f'Величина Х лежит в интервале:({y1} : {y2})')\n",
    "print(t)\n",
    "print(x_mean1)"
   ]
  },
  {
   "cell_type": "markdown",
   "id": "d79d0ab1",
   "metadata": {},
   "source": [
    "Задача 3. Рост дочерей 175, 167, 154, 174, 178, 148, 160, 167, 169, 170\n",
    "Рост матерей 178, 165, 165, 173, 168, 155, 160, 164, 178, 175\n",
    "\n",
    "Используя эти данные построить 95% доверительный интервал для разности среднего\n",
    "роста родителей и детей."
   ]
  },
  {
   "cell_type": "markdown",
   "id": "5385d45f",
   "metadata": {},
   "source": [
    "Решение"
   ]
  },
  {
   "cell_type": "code",
   "execution_count": 20,
   "id": "74dd03df",
   "metadata": {},
   "outputs": [
    {
     "name": "stdout",
     "output_type": "stream",
     "text": [
      "интервал (-10.068418034506857;6.268418034506846)\n"
     ]
    }
   ],
   "source": [
    "x = np.array([175, 167, 154, 174, 178, 148, 160, 167, 169, 170])\n",
    "y = np.array([178, 165, 165, 173, 168, 155, 160, 164, 178, 175])\n",
    "n_xy = 10\n",
    "x_mean = np.mean(x)\n",
    "y_mean = np.mean(y)\n",
    "D_x = np.var(x, ddof=1)\n",
    "D_y = np.var(y, ddof=1)\n",
    "D_xy = (D_x + D_y)/2\n",
    "SE = np.sqrt(D_xy/10 + D_xy/10)\n",
    "Δ = x_mean - y_mean\n",
    "t_1 = stats.t.ppf(0.975, df=2*(n_xy - 1))\n",
    "L = Δ - t_1 *SE#нижняя граница интервала\n",
    "U = Δ + t_1 * SE#верхняя граница интервала\n",
    "print(f'интервал ({L};{U})')"
   ]
  }
 ],
 "metadata": {
  "kernelspec": {
   "display_name": "Python 3 (ipykernel)",
   "language": "python",
   "name": "python3"
  },
  "language_info": {
   "codemirror_mode": {
    "name": "ipython",
    "version": 3
   },
   "file_extension": ".py",
   "mimetype": "text/x-python",
   "name": "python",
   "nbconvert_exporter": "python",
   "pygments_lexer": "ipython3",
   "version": "3.9.13"
  }
 },
 "nbformat": 4,
 "nbformat_minor": 5
}
